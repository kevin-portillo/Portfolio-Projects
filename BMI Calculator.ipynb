{
 "cells": [
  {
   "cell_type": "markdown",
   "id": "ee4e13e0",
   "metadata": {},
   "source": [
    "# BMI Calculator\n",
    "\n",
    "### BMI=(weight[lbs] * 703)/(height[in]^2)"
   ]
  },
  {
   "cell_type": "code",
   "execution_count": 30,
   "id": "4505c8c7",
   "metadata": {},
   "outputs": [
    {
     "name": "stdout",
     "output_type": "stream",
     "text": [
      "Please type in your full name: Max\n",
      "Input your weight in lbs: 142\n",
      "Input your height in inches: 63\n",
      "Your BMI is 25.15142353237591\n",
      "25.15\n",
      "Hello Max. Your BMI is: 25.15. This means you are overweight.\n"
     ]
    }
   ],
   "source": [
    "name=input(\"Please type in your full name: \")\n",
    "weight=int(input(\"Input your weight in lbs: \"))\n",
    "height=int(input(\"Input your height in inches: \"))\n",
    "\n",
    "#Calculate and print BMI\n",
    "BMI=(weight*703)/(height**2)\n",
    "print(f\"Your BMI is {BMI}\")\n",
    "#print(\"Your BMI is %.2f.\" % BMI)\n",
    "\n",
    "#round BMI to 2 decimal places\n",
    "BMI=round(BMI,2)\n",
    "print(BMI)\n",
    "\n",
    "if BMI>0:\n",
    "    if(BMI<18.5):\n",
    "        status=\"underweight\"\n",
    "    elif(BMI<=24.9):\n",
    "        status=\"normal weight\"\n",
    "    elif(BMI<=29.9):\n",
    "        status=\"overweight\"\n",
    "    elif(BMI<=34.9):\n",
    "        status=\"obese\"\n",
    "    elif(BMI<=39.9):\n",
    "        status=\"severely obese\"\n",
    "    else:\n",
    "        status=\"morbidly obese\"\n",
    "    formatted_fullstatus=f\"Hello {name}. Your BMI is: {BMI}. This means you are {status}.\"\n",
    "    print(formatted_fullstatus)\n",
    "else:\n",
    "    print(\"Invalid input(s).\")"
   ]
  },
  {
   "cell_type": "code",
   "execution_count": 27,
   "id": "3c6b0d24",
   "metadata": {},
   "outputs": [
    {
     "name": "stdout",
     "output_type": "stream",
     "text": [
      "Your BMI is 25.15142353237591\n"
     ]
    }
   ],
   "source": [
    "#Calculate and print BMI\n",
    "BMI=(weight*703)/(height**2)\n",
    "print(f\"Your BMI is {BMI}\")\n",
    "#print(\"Your BMI is %.2f.\" % BMI)"
   ]
  },
  {
   "cell_type": "code",
   "execution_count": 28,
   "id": "f5e0e3ba",
   "metadata": {},
   "outputs": [
    {
     "name": "stdout",
     "output_type": "stream",
     "text": [
      "25.15\n"
     ]
    }
   ],
   "source": [
    "#round BMI to 2 decimal places\n",
    "BMI=round(BMI,2)\n",
    "print(BMI)"
   ]
  },
  {
   "cell_type": "markdown",
   "id": "8ad2c400",
   "metadata": {},
   "source": [
    "Ranges:\n",
    "Under 18.5 Underweight\n",
    "18.5-24.9 Normal Weight\n",
    "25-29.9 Overweight\n",
    "30-34.9 Obese\n",
    "35-39.9 Severely Obese\n",
    "40+ Morbidly Obese"
   ]
  },
  {
   "cell_type": "code",
   "execution_count": null,
   "id": "13b649dc",
   "metadata": {},
   "outputs": [],
   "source": []
  }
 ],
 "metadata": {
  "kernelspec": {
   "display_name": "Python 3 (ipykernel)",
   "language": "python",
   "name": "python3"
  },
  "language_info": {
   "codemirror_mode": {
    "name": "ipython",
    "version": 3
   },
   "file_extension": ".py",
   "mimetype": "text/x-python",
   "name": "python",
   "nbconvert_exporter": "python",
   "pygments_lexer": "ipython3",
   "version": "3.11.5"
  }
 },
 "nbformat": 4,
 "nbformat_minor": 5
}
