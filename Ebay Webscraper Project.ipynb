{
 "cells": [
  {
   "cell_type": "code",
   "execution_count": 44,
   "id": "b32fbce5",
   "metadata": {},
   "outputs": [],
   "source": [
    "#import libraries\n",
    "\n",
    "from bs4 import BeautifulSoup\n",
    "import requests\n",
    "import smtplib #used to send email\n",
    "import time\n",
    "import datetime"
   ]
  },
  {
   "cell_type": "code",
   "execution_count": 66,
   "id": "d34e4409",
   "metadata": {
    "scrolled": true
   },
   "outputs": [
    {
     "name": "stdout",
     "output_type": "stream",
     "text": [
      "Nintendo 3DS XL Galaxy Edition Handheld System - Purple - Box W/Charger\n",
      "269.99\n"
     ]
    }
   ],
   "source": [
    "# Connect to website\n",
    "url=\"https://www.ebay.com/itm/256469064169?epid=230291549&itmmeta=01HTR6MNPSHQ6VRJ96G6NY1281&hash=item3bb6bf59e9:g:v1AAAOSwYXlmDw4A&itmprp=enc%3AAQAJAAAA8Au4SYtjFrADX5oFjqBwpbGuQzJ8TWaQJEWwYmFt69QlR%2Ftq2x7nh15Mjecz9bzQm0b1xg89jM3SXBgddFLXeZitQSSkkr0WGcxuybA5LgCUn8mGiKkBuzKbTZ5Zgdj25DZVDhE%2B63SKZu34SfpbEd6Yx92zZwqlZexXu1Q%2BaQJSac9hi%2FOj07Xe5%2BkQHbbWHvuMEVv%2BiVhEDR4xvbeMGEA5E%2FIvgT7E64U7GPDh5ls7rjX4eXaR79Qp9U4cDQsGLNH0Ug1jFOhW491mpK5yvrTtg6fHEMXl4FPTsF3ZAhI%2B8E34p97S%2FTYv2XKWd2xOtg%3D%3D%7Ctkp%3ABk9SR8Tb0obWYw\"\n",
    "\n",
    "#head to \"http://httpbin.org/get\" to get the \"user agent\"(will vary depending on computer)\n",
    "#this should be put in a dictionary\n",
    "headers={\"User-Agent\":\"Mozilla/5.0 (Windows NT 10.0; Win64; x64; rv:124.0) Gecko/20100101 Firefox/124.0\"}\n",
    "\n",
    "#get page\n",
    "page=requests.get(url, headers=headers)\n",
    "\n",
    "#get html from the page\n",
    "soup1=BeautifulSoup(page.content, \"html.parser\")#html.parser splits items into lines; \"html\" could be used to see all stacked \n",
    "\n",
    "soup2=BeautifulSoup(soup1.prettify(),\"html.parser\")#soup1.prettify takes a step further \n",
    "\n",
    "#find/find_all could use \"class_\", \"id\" as parameters\n",
    "#manually went to site and inspected the html(right clck, inspect) and selected part of page i wanted to get, in this case\n",
    "#the name of the product:\n",
    "#HTML line:<span class=\"ux-textspans ux-textspans--BOLD\">Nintendo 3DS XL Galaxy Edition Handheld System - Purple - Box W/Charger</span>\n",
    "title=soup2.find_all(class_=\"ux-textspans ux-textspans--BOLD\")[0].text.strip()\n",
    "print(title)\n",
    "\n",
    "#HTML line:<span class=\"ux-textspans\">US $269.99</span>\n",
    "#clean up price by removing tags, stripping, and only using values from index 4 to end\n",
    "#if [4:] not included, we get \"US $269.99\"\n",
    "price=soup2.find_all(class_=\"ux-textspans\")[17].text.strip()[4:]\n",
    "price=float(price) #price is originally a string. make it into a float\n",
    "print(price)"
   ]
  },
  {
   "cell_type": "code",
   "execution_count": 68,
   "id": "6cd8445c",
   "metadata": {},
   "outputs": [
    {
     "name": "stdout",
     "output_type": "stream",
     "text": [
      "2024-04-05\n"
     ]
    }
   ],
   "source": [
    "import datetime\n",
    "#get today's date\n",
    "today=datetime.date.today()\n",
    "print(today)"
   ]
  },
  {
   "cell_type": "code",
   "execution_count": null,
   "id": "98833c3b",
   "metadata": {},
   "outputs": [],
   "source": [
    "#Write data to a new csv \n",
    "\"\"\"\n",
    "import csv\n",
    "header=[\"Product\",\"Price\",\"Date\"]\n",
    "data=[title, price,today]\n",
    "            #w for writing, newline=\"\"->no space between data\n",
    "with open(\"EbayScraperData.csv\",'w', newline=\"\",encoding=\"UTF8\" ) as f:\n",
    "    writer=csv.writer(f)\n",
    "    writer.writerow(header)\n",
    "    writer.writerow(data)\n",
    "\"\"\""
   ]
  },
  {
   "cell_type": "code",
   "execution_count": null,
   "id": "fd48aa89",
   "metadata": {},
   "outputs": [],
   "source": [
    "#appending data to csv  \"a+\"=append\n",
    "\"\"\"\n",
    "with open(\"EbayScraperData.csv\",'a+', newline=\"\",encoding=\"UTF8\" ) as f:\n",
    "    writer=csv.writer(f)\n",
    "    writer.writerow(data)\n",
    "\"\"\""
   ]
  },
  {
   "cell_type": "code",
   "execution_count": null,
   "id": "3b680558",
   "metadata": {},
   "outputs": [],
   "source": [
    "#function to be used to automate\n",
    "def check_price():\n",
    "    \n",
    "    url=\"https://www.ebay.com/itm/256469064169?epid=230291549&itmmeta=01HTR6MNPSHQ6VRJ96G6NY1281&hash=item3bb6bf59e9:g:v1AAAOSwYXlmDw4A&itmprp=enc%3AAQAJAAAA8Au4SYtjFrADX5oFjqBwpbGuQzJ8TWaQJEWwYmFt69QlR%2Ftq2x7nh15Mjecz9bzQm0b1xg89jM3SXBgddFLXeZitQSSkkr0WGcxuybA5LgCUn8mGiKkBuzKbTZ5Zgdj25DZVDhE%2B63SKZu34SfpbEd6Yx92zZwqlZexXu1Q%2BaQJSac9hi%2FOj07Xe5%2BkQHbbWHvuMEVv%2BiVhEDR4xvbeMGEA5E%2FIvgT7E64U7GPDh5ls7rjX4eXaR79Qp9U4cDQsGLNH0Ug1jFOhW491mpK5yvrTtg6fHEMXl4FPTsF3ZAhI%2B8E34p97S%2FTYv2XKWd2xOtg%3D%3D%7Ctkp%3ABk9SR8Tb0obWYw\"\n",
    "\n",
    "    headers={\"User-Agent\":\"Mozilla/5.0 (Windows NT 10.0; Win64; x64; rv:124.0) Gecko/20100101 Firefox/124.0\"}\n",
    "\n",
    "    page=requests.get(url, headers=headers)\n",
    "    \n",
    "    soup1=BeautifulSoup(page.content, \"html.parser\") \n",
    "    soup2=BeautifulSoup(soup1.prettify(),\"html.parser\")\n",
    "\n",
    "    title=soup2.find_all(class_=\"ux-textspans ux-textspans--BOLD\")[0].text.strip()\n",
    "\n",
    "    price=soup2.find_all(class_=\"ux-textspans\")[17].text.strip()[4:]\n",
    "    price=float(price)\n",
    "    \n",
    "    import datetime\n",
    "    today=datetime.date.today()\n",
    "    \n",
    "    import csv \n",
    "    header=[\"Product\",\"Price\",\"Date\"]\n",
    "    data=[title, price,today]\n",
    "            \n",
    "    with open(\"EbayScraperData.csv\",'a+', newline=\"\",encoding=\"UTF8\" ) as f:\n",
    "    writer=csv.writer(f)\n",
    "    writer.writerow(data)\n",
    "    \n",
    "    #if(price<14):\n",
    "        #send_mail()\n",
    "    "
   ]
  },
  {
   "cell_type": "code",
   "execution_count": null,
   "id": "5f503950",
   "metadata": {},
   "outputs": [],
   "source": [
    "\"\"\"\n",
    "def send_mail():\n",
    "    server=smtplib.SMTP_SSL(\"smtp.gmail.com\",465)\n",
    "    server.ehlo()\n",
    "    #server.starttls()\n",
    "    server.ehlo()\n",
    "    server.login(\"NOTE:INPUT EMAIL HERE\", \"INPUT PASSWORD HERE\")\n",
    "    \n",
    "    subject=\"Shirt is below $14\"\n",
    "    body=\"Now is the time to buy the tshirt blah blah blah blah blah\"\n",
    "    msg=f\"Subject: {subject}\\n\\n{body}\"\n",
    "    \n",
    "    server.sendmail(\"EMAIL YOU WANT TO SEND TO\", msg)\n",
    "\n",
    "\n",
    "\"\"\""
   ]
  },
  {
   "cell_type": "code",
   "execution_count": null,
   "id": "824e93da",
   "metadata": {},
   "outputs": [],
   "source": [
    "while(True):\n",
    "    check_price()\n",
    "    time.sleep(86400) #every X seconds it will run this process (86400 sec= 24hr)"
   ]
  }
 ],
 "metadata": {
  "kernelspec": {
   "display_name": "Python 3 (ipykernel)",
   "language": "python",
   "name": "python3"
  },
  "language_info": {
   "codemirror_mode": {
    "name": "ipython",
    "version": 3
   },
   "file_extension": ".py",
   "mimetype": "text/x-python",
   "name": "python",
   "nbconvert_exporter": "python",
   "pygments_lexer": "ipython3",
   "version": "3.11.5"
  }
 },
 "nbformat": 4,
 "nbformat_minor": 5
}
