{
 "cells": [
  {
   "cell_type": "markdown",
   "id": "0f6a565e",
   "metadata": {},
   "source": [
    "## Prime number checker(User chosen number)"
   ]
  },
  {
   "cell_type": "code",
   "execution_count": 62,
   "id": "3edf7e3d",
   "metadata": {
    "scrolled": false
   },
   "outputs": [
    {
     "name": "stdout",
     "output_type": "stream",
     "text": [
      "Please input a number to check to see if it is a prime number: 23\n",
      "23 is a prime number.\n"
     ]
    }
   ],
   "source": [
    "verify=int(input(\"Please input a number to check to see if it is a prime number: \"))\n",
    "half=(verify//2)+1  \n",
    "\n",
    "if verify==1:\n",
    "    print(f\"{verify} is a prime number\")\n",
    "    \n",
    "elif verify>1:\n",
    "    #iterate from 2 to (n//2 +1)\n",
    "    for x in range(2,half):\n",
    "        #check to see if the input is divisible by the current number being iterated\n",
    "        if (verify%x == 0):\n",
    "            print(f\"{verify} is not a prime number.\")\n",
    "            break\n",
    "    \n",
    "    #if for loop is completed then there was no remainder for any iteration and number is a prime number  \n",
    "    #else block is NOT executed if break statement is executed \n",
    "    else:\n",
    "            print(f\"{verify} is a prime number.\")\n",
    "else:\n",
    "    print(\"Invalid input\")"
   ]
  },
  {
   "cell_type": "markdown",
   "id": "a10c05a5",
   "metadata": {},
   "source": [
    "## Get prime numbers up to certain range"
   ]
  },
  {
   "cell_type": "code",
   "execution_count": 70,
   "id": "c7f909b0",
   "metadata": {
    "scrolled": false
   },
   "outputs": [
    {
     "name": "stdout",
     "output_type": "stream",
     "text": [
      "Prime numbers: [2, 3, 5, 7, 11, 13, 17, 19, 23, 29, 31, 37, 41, 43, 47, 53, 59, 61, 67, 71, 73, 79, 83, 89, 97, 101]\n"
     ]
    }
   ],
   "source": [
    "upTo=101\n",
    "#list that will hold the prime numbers\n",
    "primes=[]\n",
    "\n",
    "if upTo==1:\n",
    "    print(\"1 is not a prime number\")\n",
    "\n",
    "elif upTo>1:\n",
    "    \n",
    "    #test every number from 2 to the given number(inclusive) to see if it is a prime number\n",
    "    for current in range(2,upTo+1):\n",
    "        \n",
    "        #find half value+1 of the current number being iterated over\n",
    "        half=current//2+1\n",
    "        \n",
    "        #test each value from 2 to the half value+1 \n",
    "        for x in range(2,half):\n",
    "    \n",
    "            #if the numbers can be divided then it isnt a prime number and exit this loop{for x in range(2,half)}\n",
    "            if(current%x==0):\n",
    "                break\n",
    "                \n",
    "        #if for loop is fully run and exited w/o a break \n",
    "        else:\n",
    "            #then the number is a prime number and is appended to the list. then continue to next iteration\n",
    "            primes.append(current)\n",
    "            #and continue with next iteration of \"current\" although not really necessary for this loop\n",
    "            continue\n",
    "    \n",
    "    #once the loop{for current in range(2,upTo+1)} is finished, print the list of prime numbers\n",
    "    print(f\"Prime numbers: {primes}\")\n",
    "    \n",
    "else:\n",
    "    print(\"Invalid input\")\n",
    "\n",
    "\n",
    "    "
   ]
  },
  {
   "cell_type": "markdown",
   "id": "ecce6b2b",
   "metadata": {},
   "source": [
    "## Find Nth prime number(from geeks for geeks)"
   ]
  },
  {
   "cell_type": "code",
   "execution_count": 2,
   "id": "61c40d8a",
   "metadata": {
    "scrolled": true
   },
   "outputs": [
    {
     "name": "stdout",
     "output_type": "stream",
     "text": [
      "5th prime number is 11\n",
      "16th prime number is 53\n",
      "1049th prime number is 8377\n"
     ]
    }
   ],
   "source": [
    "# Python3 program to the nth prime number \n",
    "primes = []\n",
    "\n",
    "# Function to generate N prime numbers using \n",
    "# Sieve of Eratosthenes \n",
    "def SieveOfEratosthenes():\n",
    "\t\n",
    "\tn = 1000005\n",
    "\t\n",
    "\t# Create a boolean array \"prime[0..n]\" and \n",
    "\t# initialize all entries it as true. A value\n",
    "\t# in prime[i] will finally be false if i is \n",
    "\t# Not a prime, else true. \n",
    "\tprime = [True for i in range(n + 1)] \n",
    "\t\n",
    "\tp = 2\n",
    "\twhile (p * p <= n): \n",
    "\t\t\n",
    "\t\t# If prime[p] is not changed, \n",
    "\t\t# then it is a prime \n",
    "\t\tif (prime[p] == True): \n",
    "\t\t\t\n",
    "\t\t\t# Update all multiples of p \n",
    "\t\t\tfor i in range(p * p, n + 1, p): \n",
    "\t\t\t\tprime[i] = False\n",
    "\t\t\t\t\n",
    "\t\tp += 1\n",
    "\t\n",
    "\t# Print all prime numbers \n",
    "\tfor p in range(2, n + 1): \n",
    "\t\tif prime[p]: \n",
    "\t\t\tprimes.append(p) \n",
    "\n",
    "# Driver code\n",
    "if __name__=='__main__': \n",
    "\t\n",
    "\t# Function call \n",
    "\tSieveOfEratosthenes()\n",
    "\t\n",
    "\tprint(\"5th prime number is\", primes[4]); \n",
    "\tprint(\"16th prime number is\", primes[15]); \n",
    "\tprint(\"1049th prime number is\", primes[1048]); \n",
    "\t\n",
    "# This code is contributed by grand_master\n"
   ]
  },
  {
   "cell_type": "markdown",
   "id": "bf110d39",
   "metadata": {},
   "source": [
    "## Get Nth prime number "
   ]
  },
  {
   "cell_type": "code",
   "execution_count": 35,
   "id": "b74b7b01",
   "metadata": {},
   "outputs": [
    {
     "name": "stdout",
     "output_type": "stream",
     "text": [
      "4 is not a prime number\n",
      "6 is not a prime number\n",
      "The 4th prime number is 7\n",
      "The 4th prime number is 7\n"
     ]
    }
   ],
   "source": [
    "#n is the number of prime numbers we want to get\n",
    "n=4\n",
    "#list that will hold the prime numbers that have been found\n",
    "primes=[]\n",
    "#num is the starting number, which is 2. We start with 2 to avoid checking if it is 1, since 1 is not a prime number\n",
    "num=2\n",
    "\n",
    "#run loop until the primes list has n values inside\n",
    "#\n",
    "while(len(primes)<n):\n",
    "    \n",
    "    #get half of the (current)value of num\n",
    "    half=num//2+1\n",
    "    \n",
    "    #iterate from 2 to half of the value of the current number\n",
    "    for x in range(2,half):\n",
    "        if(num%x==0):\n",
    "            #if the remainder between num and x is 0 for any, then it isnt a prime number\n",
    "            #exit for loop\n",
    "            print(f\"{num} is not a prime number\")\n",
    "            break\n",
    "    \n",
    "    #if for loop is fully run without a break then run this else statement since\n",
    "    #current num is a prime number and should be added to the primes list \n",
    "    else:\n",
    "        primes.append(num)\n",
    "    \n",
    "    #increase num by 1\n",
    "    num+=1        \n",
    "\n",
    "print(f\"The {n}th prime number is {primes[-1]}\") \n",
    "#or(using the num variable. Subtracting 1 is done since a 1 is added to the num at the end. so we have to go\n",
    "# back to previous value of num\n",
    "print(f\"The {n}th prime number is {num-1}\")"
   ]
  },
  {
   "cell_type": "code",
   "execution_count": 73,
   "id": "0c71a229",
   "metadata": {},
   "outputs": [
    {
     "name": "stdout",
     "output_type": "stream",
     "text": [
      "time.struct_time(tm_year=2024, tm_mon=6, tm_mday=12, tm_hour=17, tm_min=9, tm_sec=21, tm_wday=2, tm_yday=164, tm_isdst=1)\n"
     ]
    }
   ],
   "source": [
    "import time\n",
    "\n",
    "currenttime= time.localtime(time.time())\n",
    "print (currenttime)"
   ]
  }
 ],
 "metadata": {
  "kernelspec": {
   "display_name": "Python 3 (ipykernel)",
   "language": "python",
   "name": "python3"
  },
  "language_info": {
   "codemirror_mode": {
    "name": "ipython",
    "version": 3
   },
   "file_extension": ".py",
   "mimetype": "text/x-python",
   "name": "python",
   "nbconvert_exporter": "python",
   "pygments_lexer": "ipython3",
   "version": "3.11.5"
  }
 },
 "nbformat": 4,
 "nbformat_minor": 5
}
