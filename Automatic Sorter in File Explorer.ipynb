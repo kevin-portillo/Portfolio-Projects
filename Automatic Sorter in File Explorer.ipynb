{
 "cells": [
  {
   "cell_type": "markdown",
   "id": "77c51c30",
   "metadata": {},
   "source": [
    "# Automatic File Sorter"
   ]
  },
  {
   "cell_type": "code",
   "execution_count": 7,
   "id": "e1089bc6",
   "metadata": {},
   "outputs": [],
   "source": [
    "import os, shutil"
   ]
  },
  {
   "cell_type": "code",
   "execution_count": 34,
   "id": "88d02945",
   "metadata": {},
   "outputs": [],
   "source": [
    "#might use '\\\\' to make it count since raw string cant end with odd number of backslashes and it cant end with a backslash\n",
    "#could also just swap the '\\' for a /''\n",
    "path=r\"C:/Users/wisec/OneDrive/Documents/Random/\""
   ]
  },
  {
   "cell_type": "code",
   "execution_count": 39,
   "id": "e9ee682a",
   "metadata": {},
   "outputs": [
    {
     "name": "stdout",
     "output_type": "stream",
     "text": [
      "C:/Users/wisec/OneDrive/Documents/Random/\n"
     ]
    }
   ],
   "source": [
    "#Show files in the given path\n",
    "print(path)\n",
    "file_name=os.listdir(path)"
   ]
  },
  {
   "cell_type": "code",
   "execution_count": 40,
   "id": "38380d4c",
   "metadata": {},
   "outputs": [],
   "source": [
    "folder_names=[\"csv files\",\"image files\",\"text files\"]\n",
    "\n",
    "#Making folders\n",
    "for name in folder_names:\n",
    "    #if the path+name doesn't exist, make a directory/folder EX('path+name=C:/../csv files' doesnt exist, so make folder )\n",
    "    if not os.path.exists(path+name):\n",
    "        os.makedirs(path+name)\n",
    "        print(path+name)"
   ]
  },
  {
   "cell_type": "code",
   "execution_count": 42,
   "id": "3fe29b22",
   "metadata": {},
   "outputs": [],
   "source": [
    "#for each file in the original path, check file type and if it has not been moved already to the new folder \n",
    "for file in file_name:\n",
    "    #moves csv files\n",
    "    if \".csv\" in file and not os.path.exists(path+\"csv files/\"+file):\n",
    "        shutil.move(path+file, path+\"csv files/\"+file)\n",
    "    #moves png,jpg files    \n",
    "    elif (\".png\" in file or \".jpg\" in file) and not os.path.exists(path+\"image files/\"+file):\n",
    "        shutil.move(path+file, path+\"image files/\"+file)\n",
    "    #moves txt files\n",
    "    elif \".txt\" in file and not os.path.exists(path+\"text files/\"+file):\n",
    "        shutil.move(path+file, path+\"text files/\"+file)"
   ]
  },
  {
   "cell_type": "code",
   "execution_count": null,
   "id": "1284c5f3",
   "metadata": {},
   "outputs": [],
   "source": []
  }
 ],
 "metadata": {
  "kernelspec": {
   "display_name": "Python 3 (ipykernel)",
   "language": "python",
   "name": "python3"
  },
  "language_info": {
   "codemirror_mode": {
    "name": "ipython",
    "version": 3
   },
   "file_extension": ".py",
   "mimetype": "text/x-python",
   "name": "python",
   "nbconvert_exporter": "python",
   "pygments_lexer": "ipython3",
   "version": "3.11.5"
  }
 },
 "nbformat": 4,
 "nbformat_minor": 5
}
